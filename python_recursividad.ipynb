{
 "cells": [
  {
   "cell_type": "code",
   "execution_count": null,
   "metadata": {},
   "outputs": [],
   "source": [
    "#torres de hanoi\n",
    "def hanoi(N, inc='1', temp='2', fin='3'):\n",
    "    if N > 0:\n",
    "        hanoi(N - 1, inc, fin, temp)\n",
    "        print('se mueve de torre', inc, 'a torre', fin)\n",
    "        hanoi(N - 1, temp, inc, fin)\n",
    "discos = int(input(\"Introducir el numero de discos:\"))\n",
    "hanoi(discos)"
   ]
  }
 ],
 "metadata": {
  "kernelspec": {
   "display_name": "Python 3",
   "language": "python",
   "name": "python3"
  },
  "language_info": {
   "codemirror_mode": {
    "name": "ipython",
    "version": 3
   },
   "file_extension": ".py",
   "mimetype": "text/x-python",
   "name": "python",
   "nbconvert_exporter": "python",
   "pygments_lexer": "ipython3",
   "version": "3.7.3"
  }
 },
 "nbformat": 4,
 "nbformat_minor": 2
}
